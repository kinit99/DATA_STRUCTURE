{
  "nbformat": 4,
  "nbformat_minor": 0,
  "metadata": {
    "colab": {
      "provenance": []
    },
    "kernelspec": {
      "name": "python3",
      "display_name": "Python 3"
    },
    "language_info": {
      "name": "python"
    }
  },
  "cells": [
    {
      "cell_type": "markdown",
      "source": [
        "**QUES_01** Discuss string slicing and provide examples?\n",
        "\n",
        "**ANS_**String slicing in Python is a way to extract a portion of a string using a slice notation. The basic syntax for slicing is:\n",
        "\n",
        "start: The starting index of the substring (inclusive).\n",
        "end: The ending index of the substring (exclusive).\n",
        "step: The step size or interval between indices. The default step is 1."
      ],
      "metadata": {
        "id": "Q8u2yiIhhh97"
      }
    },
    {
      "cell_type": "code",
      "source": [
        "#Here are some examples to illustrate string slicing:\n",
        "\n",
        "#Basic Slicing:\n",
        "text = \"Hello, World!\"\n",
        "sliced_text = text[0:5]\n",
        "print(sliced_text)  # Output: Hello"
      ],
      "metadata": {
        "colab": {
          "base_uri": "https://localhost:8080/"
        },
        "id": "lzHZLYJWiSvu",
        "outputId": "658fab91-56bc-4081-dafa-ff7a05654431"
      },
      "execution_count": 1,
      "outputs": [
        {
          "output_type": "stream",
          "name": "stdout",
          "text": [
            "Hello\n"
          ]
        }
      ]
    },
    {
      "cell_type": "code",
      "source": [
        "#Omitting Start and End:\n",
        "text = \"Hello, World!\"\n",
        "sliced_text = text[:5]\n",
        "print(sliced_text)  # Output: Hello"
      ],
      "metadata": {
        "colab": {
          "base_uri": "https://localhost:8080/"
        },
        "id": "DRqQ-VvGioa3",
        "outputId": "f84157d6-fd95-4d56-8e24-103cf7734492"
      },
      "execution_count": 2,
      "outputs": [
        {
          "output_type": "stream",
          "name": "stdout",
          "text": [
            "Hello\n"
          ]
        }
      ]
    },
    {
      "cell_type": "code",
      "source": [
        "#Negative Indexing:\n",
        "text = \"Hello, World!\"\n",
        "sliced_text = text[-6:-1]\n",
        "print(sliced_text)  # Output: World"
      ],
      "metadata": {
        "colab": {
          "base_uri": "https://localhost:8080/"
        },
        "id": "Q6nYxiJCi1YZ",
        "outputId": "38173c94-0658-47ac-f29e-f8a409da2134"
      },
      "execution_count": 3,
      "outputs": [
        {
          "output_type": "stream",
          "name": "stdout",
          "text": [
            "World\n"
          ]
        }
      ]
    },
    {
      "cell_type": "code",
      "source": [
        "#Using Step:\n",
        "text = \"Hello, World!\"\n",
        "sliced_text = text[::2]\n",
        "print(sliced_text)  # Output: Hlo ol!"
      ],
      "metadata": {
        "colab": {
          "base_uri": "https://localhost:8080/"
        },
        "id": "oAOQ9sq2i_Wd",
        "outputId": "82e83621-3d84-4faa-8530-5a67e950b7e9"
      },
      "execution_count": 4,
      "outputs": [
        {
          "output_type": "stream",
          "name": "stdout",
          "text": [
            "Hlo ol!\n"
          ]
        }
      ]
    },
    {
      "cell_type": "code",
      "source": [
        "#Reversing a String:\n",
        "text = \"Hello, World!\"\n",
        "reversed_text = text[::-1]\n",
        "print(reversed_text)  # Output: !dlroW ,olleH"
      ],
      "metadata": {
        "colab": {
          "base_uri": "https://localhost:8080/"
        },
        "id": "f-o8IRTejJgV",
        "outputId": "923266e9-4f04-424d-cc34-ce8455c23dc7"
      },
      "execution_count": 5,
      "outputs": [
        {
          "output_type": "stream",
          "name": "stdout",
          "text": [
            "!dlroW ,olleH\n"
          ]
        }
      ]
    },
    {
      "cell_type": "code",
      "source": [
        "#Combining Start, End, and Step:\n",
        "text = \"Hello, World!\"\n",
        "sliced_text = text[1:10:2]\n",
        "print(sliced_text)  # Output: el,W"
      ],
      "metadata": {
        "colab": {
          "base_uri": "https://localhost:8080/"
        },
        "id": "hqDCK5kdjQY4",
        "outputId": "84852f66-33c5-44c9-a47d-8f3a174c5986"
      },
      "execution_count": 6,
      "outputs": [
        {
          "output_type": "stream",
          "name": "stdout",
          "text": [
            "el,Wr\n"
          ]
        }
      ]
    },
    {
      "cell_type": "markdown",
      "source": [
        "String slicing is a powerful feature in Python that allows for efficient manipulation and extraction of substrings with simple and intuitive notation."
      ],
      "metadata": {
        "id": "ddwDEr02jcAx"
      }
    },
    {
      "cell_type": "markdown",
      "source": [
        "**QUES_02** Explain the key features of lists in Python?"
      ],
      "metadata": {
        "id": "G-H6ZULPjqDv"
      }
    },
    {
      "cell_type": "markdown",
      "source": [
        "**ANS_**Lists in Python are a versatile and widely used data structure. Here are the key features of lists in Python:\n",
        "\n",
        "**Ordered:**\n",
        "\n",
        "Lists maintain the order of elements. When you add elements to a list, they are stored in a specific sequence, and you can access them using their index positions.\n",
        "\n",
        "**Mutable:**\n",
        "\n",
        "Lists can be modified after creation. You can change, add, or remove elements from a list.\n",
        "\n",
        "**Heterogeneous Elements:**\n",
        "\n",
        "Lists can contain elements of different data types, including other lists. For example, a list can contain integers, strings, and even other lists.\n",
        "\n",
        "**Dynamic Size:**\n",
        "\n",
        "Lists can grow or shrink in size as you add or remove elements. This dynamic nature makes lists very flexible for a variety of use cases.\n",
        "\n",
        "**Indexed Access:**\n",
        "\n",
        "You can access individual elements of a list using their index. Indexing starts from 0 for the first element.\n",
        "\n",
        "**Slicing:**\n",
        "\n",
        "Similar to strings, you can use slicing to access a range of elements in a list.\n",
        "Built-in Methods:\n",
        "\n",
        "Python lists come with many built-in methods that make common operations easy. Some of these methods include append(), extend(), insert(), remove(), pop(), clear(), index(), count(), sort(), and reverse().\n",
        "\n",
        "**Iteration:**\n",
        "\n",
        "You can iterate over the elements of a list using loops, such as for loops and comprehensions."
      ],
      "metadata": {
        "id": "zbscRZJWlQhW"
      }
    },
    {
      "cell_type": "markdown",
      "source": [
        "**QUES_03** DescrIbe how to access, modIfy, and delete elements in a list with examples?\n",
        "\n",
        "**ANS_**Accessing, modifying, and deleting elements in a list are fundamental operations in Python. Here’s how you can perform each of these tasks with examples:\n",
        "\n",
        "Accessing Elements in a List\n",
        "You can access elements in a list using their index positions. Indexing starts from 0 for the first element."
      ],
      "metadata": {
        "id": "0vVTvu1WmLPt"
      }
    },
    {
      "cell_type": "code",
      "source": [
        "#Single Element Access:\n",
        "my_list = [10, 20, 30, 40, 50]\n",
        "print(my_list[0])  # Output: 10\n",
        "print(my_list[3])  # Output: 40"
      ],
      "metadata": {
        "colab": {
          "base_uri": "https://localhost:8080/"
        },
        "id": "a-v_L6HWnN0H",
        "outputId": "a2ce0edd-0106-4929-cdd1-52caf6f5357c"
      },
      "execution_count": 7,
      "outputs": [
        {
          "output_type": "stream",
          "name": "stdout",
          "text": [
            "10\n",
            "40\n"
          ]
        }
      ]
    },
    {
      "cell_type": "code",
      "source": [
        "#Negative Indexing:\n",
        "print(my_list[-1])  # Output: 50\n",
        "print(my_list[-2])  # Output: 40"
      ],
      "metadata": {
        "colab": {
          "base_uri": "https://localhost:8080/"
        },
        "id": "nNRZcyODnUlJ",
        "outputId": "fa8c350c-5fe3-48ea-e33d-11fb7bb1df55"
      },
      "execution_count": 8,
      "outputs": [
        {
          "output_type": "stream",
          "name": "stdout",
          "text": [
            "50\n",
            "40\n"
          ]
        }
      ]
    },
    {
      "cell_type": "code",
      "source": [
        "#Slicing:\n",
        "print(my_list[1:4])  # Output: [20, 30, 40]\n",
        "print(my_list[:3])   # Output: [10, 20, 30]\n",
        "print(my_list[2:])   # Output: [30, 40, 50]\n",
        "print(my_list[::2])  # Output: [10, 30, 50]"
      ],
      "metadata": {
        "colab": {
          "base_uri": "https://localhost:8080/"
        },
        "id": "JoP9wgIenb3v",
        "outputId": "bcde0734-0fb8-434f-9b51-95ac0fb43d32"
      },
      "execution_count": 9,
      "outputs": [
        {
          "output_type": "stream",
          "name": "stdout",
          "text": [
            "[20, 30, 40]\n",
            "[10, 20, 30]\n",
            "[30, 40, 50]\n",
            "[10, 30, 50]\n"
          ]
        }
      ]
    },
    {
      "cell_type": "code",
      "source": [
        "#Modifying Elements in a List\n",
        "#Lists are mutable, so you can change their content.\n",
        "#Modifying a Single Element:\n",
        "my_list = [10, 20, 30, 40, 50]\n",
        "my_list[2] = 35\n",
        "print(my_list)  # Output: [10, 20, 35, 40, 50]"
      ],
      "metadata": {
        "colab": {
          "base_uri": "https://localhost:8080/"
        },
        "id": "B0TISMImnikU",
        "outputId": "54311dbc-4f3c-43d5-bb53-f893fd08e843"
      },
      "execution_count": 10,
      "outputs": [
        {
          "output_type": "stream",
          "name": "stdout",
          "text": [
            "[10, 20, 35, 40, 50]\n"
          ]
        }
      ]
    },
    {
      "cell_type": "code",
      "source": [
        "#Modifying Multiple Elements:\n",
        "my_list[1:3] = [25, 35]\n",
        "print(my_list)  # Output: [10, 25, 35, 40, 50]"
      ],
      "metadata": {
        "colab": {
          "base_uri": "https://localhost:8080/"
        },
        "id": "oXe7le2Qnr48",
        "outputId": "e51bb4e3-6d38-47f2-e756-2ecb2287951a"
      },
      "execution_count": 11,
      "outputs": [
        {
          "output_type": "stream",
          "name": "stdout",
          "text": [
            "[10, 25, 35, 40, 50]\n"
          ]
        }
      ]
    },
    {
      "cell_type": "code",
      "source": [
        "#Appending Elements:\n",
        "my_list.append(60)\n",
        "print(my_list)  # Output: [10, 25, 35, 40, 50, 60]"
      ],
      "metadata": {
        "colab": {
          "base_uri": "https://localhost:8080/"
        },
        "id": "osTbXB-fnyPd",
        "outputId": "17423ca5-944b-42b2-b6a3-22ba053c5705"
      },
      "execution_count": 12,
      "outputs": [
        {
          "output_type": "stream",
          "name": "stdout",
          "text": [
            "[10, 25, 35, 40, 50, 60]\n"
          ]
        }
      ]
    },
    {
      "cell_type": "code",
      "source": [
        "#Inserting Elements:\n",
        "my_list.insert(2, 28)\n",
        "print(my_list)  # Output: [10, 25, 28, 35, 40, 50, 60]"
      ],
      "metadata": {
        "colab": {
          "base_uri": "https://localhost:8080/"
        },
        "id": "OxvNIZ2Tn4pT",
        "outputId": "f3d7474c-b8a7-4951-e5a1-ddcb32587e52"
      },
      "execution_count": 13,
      "outputs": [
        {
          "output_type": "stream",
          "name": "stdout",
          "text": [
            "[10, 25, 28, 35, 40, 50, 60]\n"
          ]
        }
      ]
    },
    {
      "cell_type": "code",
      "source": [
        "#Extending the List:\n",
        "my_list.extend([70, 80])\n",
        "print(my_list)  # Output: [10, 25, 28, 35, 40, 50, 60, 70, 80]"
      ],
      "metadata": {
        "colab": {
          "base_uri": "https://localhost:8080/"
        },
        "id": "epj8iVCgoEm9",
        "outputId": "f20ab651-10cc-4cf9-d5b3-9389c516007a"
      },
      "execution_count": 14,
      "outputs": [
        {
          "output_type": "stream",
          "name": "stdout",
          "text": [
            "[10, 25, 28, 35, 40, 50, 60, 70, 80]\n"
          ]
        }
      ]
    },
    {
      "cell_type": "code",
      "source": [
        "#Deleting Elements in a List\n",
        "#You can remove elements from a list in various ways.\n",
        "#Using del Statement:\n",
        "my_list = [10, 25, 28, 35, 40, 50, 60, 70, 80]\n",
        "del my_list[2]\n",
        "print(my_list)  # Output: [10, 25, 35, 40, 50, 60, 70, 80]"
      ],
      "metadata": {
        "colab": {
          "base_uri": "https://localhost:8080/"
        },
        "id": "QfhUK9kwoLKp",
        "outputId": "728b75df-b70c-4f76-8576-11532968b0ef"
      },
      "execution_count": 15,
      "outputs": [
        {
          "output_type": "stream",
          "name": "stdout",
          "text": [
            "[10, 25, 35, 40, 50, 60, 70, 80]\n"
          ]
        }
      ]
    },
    {
      "cell_type": "code",
      "source": [
        "#Using remove() Method:\n",
        "my_list.remove(50)\n",
        "print(my_list)  # Output: [10, 40, 60, 70, 80]"
      ],
      "metadata": {
        "colab": {
          "base_uri": "https://localhost:8080/"
        },
        "id": "1Z-6bEjMoz7r",
        "outputId": "81eb5a5f-d493-4d7a-998f-69124bfb9e5f"
      },
      "execution_count": 16,
      "outputs": [
        {
          "output_type": "stream",
          "name": "stdout",
          "text": [
            "[10, 25, 35, 40, 60, 70, 80]\n"
          ]
        }
      ]
    },
    {
      "cell_type": "code",
      "source": [
        "#Using pop() Method:\n",
        "my_list.pop()  # Removes the last element\n",
        "print(my_list)  # Output: [10, 40, 60, 70]\n",
        "\n",
        "my_list.pop(1)  # Removes the element at index 1\n",
        "print(my_list)  # Output: [10, 60, 70]"
      ],
      "metadata": {
        "colab": {
          "base_uri": "https://localhost:8080/"
        },
        "id": "-Riy35S8o7o9",
        "outputId": "2164c26a-9cec-44b4-fc74-d08e4451f09b"
      },
      "execution_count": 17,
      "outputs": [
        {
          "output_type": "stream",
          "name": "stdout",
          "text": [
            "[10, 25, 35, 40, 60, 70]\n",
            "[10, 35, 40, 60, 70]\n"
          ]
        }
      ]
    },
    {
      "cell_type": "code",
      "source": [
        "#Using clear() Method:\n",
        "my_list.clear()\n",
        "print(my_list)  # Output: []"
      ],
      "metadata": {
        "colab": {
          "base_uri": "https://localhost:8080/"
        },
        "id": "-opzJXeTpGEA",
        "outputId": "d90ceaf3-5477-43a9-eb6a-e802fe910ae7"
      },
      "execution_count": 18,
      "outputs": [
        {
          "output_type": "stream",
          "name": "stdout",
          "text": [
            "[]\n"
          ]
        }
      ]
    },
    {
      "cell_type": "markdown",
      "source": [
        "By using these methods, you can effectively access, modify, and delete elements in a list, allowing for dynamic and flexible list management in your Python programs."
      ],
      "metadata": {
        "id": "2iBBKwXDARDH"
      }
    },
    {
      "cell_type": "markdown",
      "source": [
        "**QUES_04** Compare and contrast tuples and lists with examples?"
      ],
      "metadata": {
        "id": "4Leb-dkJAWSl"
      }
    },
    {
      "cell_type": "markdown",
      "source": [
        "**ANS_**Tuples and lists are both used to store collections of items in Python, but they have some key differences in terms of their properties and use cases. Here is a comparison of tuples and lists with examples:\n",
        "\n",
        "Similarities\n",
        "Ordered: Both tuples and lists maintain the order of elements.\n",
        "Indexing: You can access elements in both using indices.\n",
        "Heterogeneous: Both can store elements of different data types.\n",
        "Iteration: You can iterate over both using loops.\n",
        "Differences\n",
        "Mutability:\n",
        "\n",
        "Lists are mutable, meaning you can change, add, or remove elements after creation.\n",
        "Tuples are immutable, meaning once they are created, you cannot modify them.\n",
        "Syntax:\n",
        "\n",
        "Lists are defined using square brackets [].\n",
        "Tuples are defined using parentheses ().\n",
        "Methods:\n",
        "\n",
        "Lists have a variety of methods for modifying the content, such as append(), remove(), extend(), insert(), and pop().\n",
        "Tuples have fewer methods, mainly for counting and finding elements (count(), index()).\n",
        "Usage:\n",
        "\n",
        "Lists are generally used for collections of items that may need to be modified.\n",
        "Tuples are used for collections of items that should not be changed, such as fixed collections of values or when using them as keys in dictionaries.\n",
        "Examples"
      ],
      "metadata": {
        "id": "76QDFPgISNJa"
      }
    },
    {
      "cell_type": "code",
      "source": [
        "#Lists\n",
        "#Creating and Accessing Lists:\n",
        "my_list = [1, 2, 3, 4, 5]\n",
        "print(my_list[2])"
      ],
      "metadata": {
        "colab": {
          "base_uri": "https://localhost:8080/"
        },
        "id": "Oov0nbQ-WLiF",
        "outputId": "005820cb-ff43-4264-9b9d-87cf5b7b2980"
      },
      "execution_count": 19,
      "outputs": [
        {
          "output_type": "stream",
          "name": "stdout",
          "text": [
            "3\n"
          ]
        }
      ]
    },
    {
      "cell_type": "code",
      "source": [
        "#Modifying Lists:\n",
        "my_list[2] = 10\n",
        "print(my_list)\n",
        "\n",
        "my_list.append(6)\n",
        "print(my_list)"
      ],
      "metadata": {
        "colab": {
          "base_uri": "https://localhost:8080/"
        },
        "id": "rZ6Zl9CHWVc2",
        "outputId": "d6d668cb-c6ad-4a2d-bd7f-b3e53cda8d11"
      },
      "execution_count": 20,
      "outputs": [
        {
          "output_type": "stream",
          "name": "stdout",
          "text": [
            "[1, 2, 10, 4, 5]\n",
            "[1, 2, 10, 4, 5, 6]\n"
          ]
        }
      ]
    },
    {
      "cell_type": "code",
      "source": [
        "#Deleting from Lists:\n",
        "my_list.pop(2)\n",
        "print(my_list)\n",
        "\n",
        "del my_list[1:3]\n",
        "print(my_list)"
      ],
      "metadata": {
        "colab": {
          "base_uri": "https://localhost:8080/"
        },
        "id": "coJZqE_tWfxM",
        "outputId": "5d36f46d-3568-4a14-be23-3cc2760f990d"
      },
      "execution_count": 21,
      "outputs": [
        {
          "output_type": "stream",
          "name": "stdout",
          "text": [
            "[1, 2, 4, 5, 6]\n",
            "[1, 5, 6]\n"
          ]
        }
      ]
    },
    {
      "cell_type": "markdown",
      "source": [
        "**Tuples**"
      ],
      "metadata": {
        "id": "efbucn5AWrGF"
      }
    },
    {
      "cell_type": "code",
      "source": [
        "#Creating and Accessing Tuples:\n",
        "my_tuple = (1, 2, 3, 4, 5)\n",
        "print(my_tuple[2])"
      ],
      "metadata": {
        "colab": {
          "base_uri": "https://localhost:8080/"
        },
        "id": "0rl7qi1rWv5C",
        "outputId": "f310c06d-97c3-4652-8afa-ba4e800292b0"
      },
      "execution_count": 22,
      "outputs": [
        {
          "output_type": "stream",
          "name": "stdout",
          "text": [
            "3\n"
          ]
        }
      ]
    },
    {
      "cell_type": "code",
      "source": [
        "#Immutability of Tuples:\n",
        "try:\n",
        "    my_tuple[2] = 10\n",
        "except TypeError as e:\n",
        "    print(e)"
      ],
      "metadata": {
        "colab": {
          "base_uri": "https://localhost:8080/"
        },
        "id": "eHt-XwejW3ZB",
        "outputId": "dab7d622-6186-472c-f300-544e16bd0b0f"
      },
      "execution_count": 23,
      "outputs": [
        {
          "output_type": "stream",
          "name": "stdout",
          "text": [
            "'tuple' object does not support item assignment\n"
          ]
        }
      ]
    },
    {
      "cell_type": "code",
      "source": [
        "#Tuple Methods:\n",
        "print(my_tuple.count(3))\n",
        "print(my_tuple.index(4))"
      ],
      "metadata": {
        "colab": {
          "base_uri": "https://localhost:8080/"
        },
        "id": "1JZ_opMtW-f9",
        "outputId": "b99a9656-8e1a-4058-cd9a-bebd61e9784b"
      },
      "execution_count": 24,
      "outputs": [
        {
          "output_type": "stream",
          "name": "stdout",
          "text": [
            "1\n",
            "3\n"
          ]
        }
      ]
    },
    {
      "cell_type": "code",
      "source": [
        "#Using Tuples as Dictionary Keys:\n",
        "my_dict = {(1, 2): \"a\", (3, 4): \"b\"}\n",
        "print(my_dict[(1, 2)])"
      ],
      "metadata": {
        "colab": {
          "base_uri": "https://localhost:8080/"
        },
        "id": "_6PuebRpXHNn",
        "outputId": "c64714a7-1ba9-4fa7-d3c0-dcef140babe4"
      },
      "execution_count": 25,
      "outputs": [
        {
          "output_type": "stream",
          "name": "stdout",
          "text": [
            "a\n"
          ]
        }
      ]
    },
    {
      "cell_type": "markdown",
      "source": [
        "**Summary**\n",
        "\n",
        "Mutability: Lists can be changed, tuples cannot.\n",
        "\n",
        "Syntax: Lists use [], tuples use ().\n",
        "\n",
        "Methods: Lists have more methods for modifying content.\n",
        "\n",
        "Usage: Use lists for dynamic collections, and tuples for fixed collections or dictionary keys."
      ],
      "metadata": {
        "id": "JbZw0D3eXPxc"
      }
    },
    {
      "cell_type": "markdown",
      "source": [
        "**QUES_05** Describe the key Features of sets and provide examples of their use?"
      ],
      "metadata": {
        "id": "sxqrtiTKXbMq"
      }
    },
    {
      "cell_type": "markdown",
      "source": [
        "**ANS_**Sets in Python are a built-in data type used to store collections of unique items. Here are the key features of sets, along with examples to illustrate their use:\n",
        "\n",
        "Key Features of Sets\n",
        "Unordered:\n",
        "\n",
        "Sets do not maintain the order of elements. The elements are stored in an arbitrary order, and this order can change over time.\n",
        "Unique Elements:\n",
        "\n",
        "Sets automatically enforce uniqueness. If you try to add a duplicate element, it will be ignored.\n",
        "Mutable:\n",
        "\n",
        "Sets are mutable, meaning you can add and remove elements after the set is created.\n",
        "No Indexing:\n",
        "\n",
        "Sets do not support indexing, slicing, or other sequence-like behavior because they are unordered.\n",
        "Support for Mathematical Set Operations:\n",
        "\n",
        "Sets support operations like union, intersection, difference, and symmetric difference, which are useful for mathematical set theory applications.\n",
        "Efficient Membership Testing:\n",
        "\n",
        "Membership tests (e.g., using the in keyword) are typically very fast with sets due to their underlying hash table implementation.\n",
        "\n",
        "Examples of Sets"
      ],
      "metadata": {
        "id": "xL2n4-I7X_EN"
      }
    },
    {
      "cell_type": "code",
      "source": [
        "#Creating and Basic Operations:\n",
        "# Creating a set\n",
        "my_set = {1, 2, 3, 4, 5}\n",
        "print(my_set)\n",
        "\n",
        "# Adding elements\n",
        "my_set.add(6)\n",
        "print(my_set)"
      ],
      "metadata": {
        "colab": {
          "base_uri": "https://localhost:8080/"
        },
        "id": "sOGSN3CnYLcB",
        "outputId": "99fee9fd-ca1f-4873-9dd3-797d0eb1cd25"
      },
      "execution_count": 26,
      "outputs": [
        {
          "output_type": "stream",
          "name": "stdout",
          "text": [
            "{1, 2, 3, 4, 5}\n",
            "{1, 2, 3, 4, 5, 6}\n"
          ]
        }
      ]
    },
    {
      "cell_type": "code",
      "source": [
        "# Removing elements\n",
        "my_set.remove(4)  # Raises KeyError if the element is not present\n",
        "print(my_set)\n",
        "\n",
        "my_set.discard(10)  # No error if the element is not present\n",
        "print(my_set)\n",
        "\n",
        "# Popping an element (removes and returns an arbitrary element)\n",
        "popped_element = my_set.pop()\n",
        "print(popped_element)\n",
        "print(my_set)"
      ],
      "metadata": {
        "colab": {
          "base_uri": "https://localhost:8080/"
        },
        "id": "SWjDi0W6YT_C",
        "outputId": "3597b2f8-a596-4e7c-bdcc-db57fa4a8cb6"
      },
      "execution_count": 27,
      "outputs": [
        {
          "output_type": "stream",
          "name": "stdout",
          "text": [
            "{1, 2, 3, 5, 6}\n",
            "{1, 2, 3, 5, 6}\n",
            "1\n",
            "{2, 3, 5, 6}\n"
          ]
        }
      ]
    },
    {
      "cell_type": "code",
      "source": [
        "#Set Operations:\n",
        "set1 = {1, 2, 3, 4, 5}\n",
        "set2 = {4, 5, 6, 7, 8}\n",
        "\n",
        "# Union\n",
        "union_set = set1 | set2\n",
        "print(union_set)\n",
        "\n",
        "# Intersection\n",
        "intersection_set = set1 & set2\n",
        "print(intersection_set)\n",
        "\n",
        "# Difference\n",
        "difference_set = set1 - set2\n",
        "print(difference_set)\n",
        "\n",
        "# Symmetric Difference\n",
        "symmetric_difference_set = set1 ^ set2\n",
        "print(symmetric_difference_set)"
      ],
      "metadata": {
        "colab": {
          "base_uri": "https://localhost:8080/"
        },
        "id": "VSGQHbDZYjIZ",
        "outputId": "6f1eb440-6229-4519-9ab9-82324527b4ab"
      },
      "execution_count": 28,
      "outputs": [
        {
          "output_type": "stream",
          "name": "stdout",
          "text": [
            "{1, 2, 3, 4, 5, 6, 7, 8}\n",
            "{4, 5}\n",
            "{1, 2, 3}\n",
            "{1, 2, 3, 6, 7, 8}\n"
          ]
        }
      ]
    },
    {
      "cell_type": "code",
      "source": [
        "#Membership Testing:\n",
        "my_set = {1, 2, 3, 4, 5}\n",
        "print(3 in my_set)\n",
        "print(6 in my_set)"
      ],
      "metadata": {
        "colab": {
          "base_uri": "https://localhost:8080/"
        },
        "id": "BGQ4e4QrYuqB",
        "outputId": "be84d1f6-cba2-4b8d-abd8-930adc4453b0"
      },
      "execution_count": 29,
      "outputs": [
        {
          "output_type": "stream",
          "name": "stdout",
          "text": [
            "True\n",
            "False\n"
          ]
        }
      ]
    },
    {
      "cell_type": "code",
      "source": [
        "#Set Comprehensions:\n",
        "squares = {x**2 for x in range(6)}\n",
        "print(squares)\n",
        "\n",
        "#Removing Duplicates from a List:\n",
        "list_with_duplicates = [1, 2, 2, 3, 4, 4, 5]\n",
        "unique_set = set(list_with_duplicates)\n",
        "print(unique_set)"
      ],
      "metadata": {
        "colab": {
          "base_uri": "https://localhost:8080/"
        },
        "id": "mLypH9owY-Vc",
        "outputId": "7cacc7aa-2c82-49ea-dc19-40e7e643efa6"
      },
      "execution_count": 30,
      "outputs": [
        {
          "output_type": "stream",
          "name": "stdout",
          "text": [
            "{0, 1, 4, 9, 16, 25}\n",
            "{1, 2, 3, 4, 5}\n"
          ]
        }
      ]
    },
    {
      "cell_type": "markdown",
      "source": [
        "**Summary**\n",
        "\n",
        "Unordered and Unique: Sets store unique elements in an arbitrary order.\n",
        "\n",
        "Mutable: You can add or remove elements.\n",
        "\n",
        "No Indexing: Sets do not support indexing or slicing.\n",
        "\n",
        "Efficient Operations: Fast membership tests and support for set operations like union, intersection, and difference."
      ],
      "metadata": {
        "id": "E7LP1FN3ZP-T"
      }
    },
    {
      "cell_type": "markdown",
      "source": [
        "**QUES_06** Discuss the use cases of tuples and sets on Python programming?"
      ],
      "metadata": {
        "id": "ZVuHbazTZ2zy"
      }
    },
    {
      "cell_type": "markdown",
      "source": [
        "**ANS_**Tuples and sets each have distinct use cases in Python programming due to their unique properties. Here's a discussion of their respective use cases:\n",
        "\n",
        "Use Cases for Tuples\n",
        "Immutable Collections:\n",
        "\n",
        "Fixed Data: Tuples are useful for representing fixed collections of items that should not change. For example, coordinates of a point (x, y), RGB color values (255, 0, 0), or configurations that should remain constant."
      ],
      "metadata": {
        "id": "2KnDCal_aFMy"
      }
    },
    {
      "cell_type": "code",
      "source": [
        "coordinates = (10.0, 20.0)\n",
        "rgb_color = (255, 0, 0)\n"
      ],
      "metadata": {
        "id": "39kieYiuaPvt"
      },
      "execution_count": 31,
      "outputs": []
    },
    {
      "cell_type": "code",
      "source": [
        "#Dictionary Keys:\n",
        "\n",
        "#Hashable Elements: Tuples can be used as keys in dictionaries because they are immutable and hashable, unlike lists.\n",
        "locations = {('New York', 'NY'): 8175133, ('Los Angeles', 'CA'): 3792621}"
      ],
      "metadata": {
        "id": "_TBntcUsabSi"
      },
      "execution_count": 32,
      "outputs": []
    },
    {
      "cell_type": "code",
      "source": [
        "#Returning Multiple Values from Functions:\n",
        "\n",
        "#Function Return: Functions can return multiple values as tuples, which can be easily unpacked by the caller.\n",
        "def get_coordinates():\n",
        "    return (10.0, 20.0)\n",
        "\n",
        "x, y = get_coordinates()"
      ],
      "metadata": {
        "id": "k_yVg5vUaoyb"
      },
      "execution_count": 33,
      "outputs": []
    },
    {
      "cell_type": "code",
      "source": [
        "#Data Integrity:\n",
        "\n",
        "#Protecting Data: When you want to ensure the data integrity of a sequence, use tuples. This can prevent accidental modification.\n",
        "days_of_week = ('Monday', 'Tuesday', 'Wednesday', 'Thursday', 'Friday', 'Saturday', 'Sunday')\n"
      ],
      "metadata": {
        "id": "AvWIgNWdaybc"
      },
      "execution_count": 34,
      "outputs": []
    },
    {
      "cell_type": "code",
      "source": [
        "#Iterating Over Pairs:\n",
        "\n",
        "#Enumerate: Using tuples in loops for pairing elements, such as with the enumerate() function.\n",
        "names = ['Alice', 'Bob', 'Charlie']\n",
        "for index, name in enumerate(names):\n",
        "    print(f\"{index}: {name}\")"
      ],
      "metadata": {
        "colab": {
          "base_uri": "https://localhost:8080/"
        },
        "id": "kuNNH2jubCFI",
        "outputId": "8d0015c4-0adf-42ff-fb85-bdf28e0a5f9d"
      },
      "execution_count": 35,
      "outputs": [
        {
          "output_type": "stream",
          "name": "stdout",
          "text": [
            "0: Alice\n",
            "1: Bob\n",
            "2: Charlie\n"
          ]
        }
      ]
    },
    {
      "cell_type": "markdown",
      "source": [
        "**USE CASES FOR SETS**"
      ],
      "metadata": {
        "id": "vbgCi3ngbYGQ"
      }
    },
    {
      "cell_type": "code",
      "source": [
        "#Use Cases for Sets\n",
        "#Unique Collections:\n",
        "\n",
        "#Removing Duplicates: Sets automatically enforce uniqueness, making them ideal for tasks that require the removal of duplicate elements from a collection.\n",
        "numbers = [1, 2, 2, 3, 4, 4, 5]\n",
        "unique_numbers = set(numbers)\n",
        "print(unique_numbers)"
      ],
      "metadata": {
        "colab": {
          "base_uri": "https://localhost:8080/"
        },
        "id": "ZywyDUDXbKNl",
        "outputId": "13367b00-54d4-4011-84e7-4a845bcdad21"
      },
      "execution_count": 36,
      "outputs": [
        {
          "output_type": "stream",
          "name": "stdout",
          "text": [
            "{1, 2, 3, 4, 5}\n"
          ]
        }
      ]
    },
    {
      "cell_type": "code",
      "source": [
        "#Membership Testing:\n",
        "\n",
        "#Efficient Lookups: Sets provide fast membership testing due to their hash table implementation, making them suitable for checking if an element is in a collection.\n",
        "items = {'apple', 'banana', 'cherry'}\n",
        "print('banana' in items)"
      ],
      "metadata": {
        "colab": {
          "base_uri": "https://localhost:8080/"
        },
        "id": "XcnmQjFKbdkB",
        "outputId": "de533573-a522-4afa-99f1-0103c28cc85b"
      },
      "execution_count": 37,
      "outputs": [
        {
          "output_type": "stream",
          "name": "stdout",
          "text": [
            "True\n"
          ]
        }
      ]
    },
    {
      "cell_type": "code",
      "source": [
        "#Mathematical Set Operations:\n",
        "\n",
        "#Union, Intersection, Difference: Sets support operations like union, intersection, difference, and symmetric difference, which are useful in various mathematical and data analysis applications.\n",
        "set1 = {1, 2, 3}\n",
        "set2 = {3, 4, 5}\n",
        "print(set1 | set2)  # Union: {1, 2, 3, 4, 5}\n",
        "print(set1 & set2)  # Intersection: {3}\n",
        "print(set1 - set2)  # Difference: {1, 2}\n",
        "#Filtering Unique Elements:\n",
        "\n",
        "#Unique Subsets: Use sets to filter out unique elements or to perform operations involving unique subsets.\n",
        "data = ['apple', 'banana', 'apple', 'cherry', 'banana']\n",
        "unique_data = list(set(data))\n",
        "print(unique_data)"
      ],
      "metadata": {
        "colab": {
          "base_uri": "https://localhost:8080/"
        },
        "id": "eF6HXcJtbkwi",
        "outputId": "4feed8dc-04e1-4cdd-edbb-27575de6782f"
      },
      "execution_count": 38,
      "outputs": [
        {
          "output_type": "stream",
          "name": "stdout",
          "text": [
            "{1, 2, 3, 4, 5}\n",
            "{3}\n",
            "{1, 2}\n",
            "['banana', 'cherry', 'apple']\n"
          ]
        }
      ]
    },
    {
      "cell_type": "code",
      "source": [
        "#Set Algebra:\n",
        "\n",
        "#Finding Common or Unique Elements: In tasks involving multiple collections, sets can be used to find common or unique elements efficiently.\n",
        "students_a = {'John', 'Jane', 'Jack'}\n",
        "students_b = {'Jane', 'Tom', 'Jack'}\n",
        "common_students = students_a & students_b"
      ],
      "metadata": {
        "id": "T0lIF-Hnb0qp"
      },
      "execution_count": 39,
      "outputs": []
    },
    {
      "cell_type": "markdown",
      "source": [
        "**Summary**\n",
        "\n",
        "Tuples: Use when you need an immutable, ordered collection. Ideal for fixed data structures, function returns with multiple values, dictionary keys, ensuring data integrity, and iterating over pairs.\n",
        "\n",
        "Sets: Use when you need a collection of unique items with no order. Ideal for removing duplicates, fast membership testing, mathematical set operations, filtering unique elements, and performing set algebra."
      ],
      "metadata": {
        "id": "1U6_FuNAcD1R"
      }
    },
    {
      "cell_type": "markdown",
      "source": [
        "**QUES_07**Describe how to add, modify, and delete items in a dictionary with examples?"
      ],
      "metadata": {
        "id": "AmexMdnRcJ31"
      }
    },
    {
      "cell_type": "markdown",
      "source": [
        "**ANS_**Dictionaries in Python are mutable collections that store key-value pairs. You can add, modify, and delete items in a dictionary using various methods. Here’s how you can perform these operations with examples:\n",
        "\n",
        "Adding Items to a Dictionary"
      ],
      "metadata": {
        "id": "akHltx6zcuLD"
      }
    },
    {
      "cell_type": "code",
      "source": [
        "#Using Bracket Notation:\n",
        "my_dict = {}\n",
        "my_dict['name'] = 'Alice'\n",
        "my_dict['age'] = 25\n",
        "print(my_dict)\n"
      ],
      "metadata": {
        "colab": {
          "base_uri": "https://localhost:8080/"
        },
        "id": "H8teT-0_c1y5",
        "outputId": "ea66dcad-7e70-4017-8a35-e45cbfaadc3d"
      },
      "execution_count": 40,
      "outputs": [
        {
          "output_type": "stream",
          "name": "stdout",
          "text": [
            "{'name': 'Alice', 'age': 25}\n"
          ]
        }
      ]
    },
    {
      "cell_type": "code",
      "source": [
        "#Using update() Method:\n",
        "my_dict.update({'city': 'New York', 'country': 'USA'})\n",
        "print(my_dict)\n"
      ],
      "metadata": {
        "colab": {
          "base_uri": "https://localhost:8080/"
        },
        "id": "g7FRApxIdC6O",
        "outputId": "e34480c4-d3b6-4ecc-a741-b69c6e4ec224"
      },
      "execution_count": 41,
      "outputs": [
        {
          "output_type": "stream",
          "name": "stdout",
          "text": [
            "{'name': 'Alice', 'age': 25, 'city': 'New York', 'country': 'USA'}\n"
          ]
        }
      ]
    },
    {
      "cell_type": "code",
      "source": [
        "#Modifying Items in a Dictionary\n",
        "#Using Bracket Notation:\n",
        "my_dict['age'] = 26\n",
        "print(my_dict)"
      ],
      "metadata": {
        "colab": {
          "base_uri": "https://localhost:8080/"
        },
        "id": "2xwEK7d-dQJw",
        "outputId": "6ab5113b-16ec-498a-dfbd-e9dc5cbaeaee"
      },
      "execution_count": 42,
      "outputs": [
        {
          "output_type": "stream",
          "name": "stdout",
          "text": [
            "{'name': 'Alice', 'age': 26, 'city': 'New York', 'country': 'USA'}\n"
          ]
        }
      ]
    },
    {
      "cell_type": "code",
      "source": [
        "#Using update() Method:\n",
        "my_dict.update({'name': 'Bob'})\n",
        "print(my_dict)"
      ],
      "metadata": {
        "colab": {
          "base_uri": "https://localhost:8080/"
        },
        "id": "hi8G4heudX9i",
        "outputId": "2ac95fbd-5303-4a42-ae7e-84d3068b029b"
      },
      "execution_count": 43,
      "outputs": [
        {
          "output_type": "stream",
          "name": "stdout",
          "text": [
            "{'name': 'Bob', 'age': 26, 'city': 'New York', 'country': 'USA'}\n"
          ]
        }
      ]
    },
    {
      "cell_type": "code",
      "source": [
        "#Deleting Items from a Dictionary\n",
        "#Using del Statement:\n",
        "del my_dict['age']\n",
        "print(my_dict)"
      ],
      "metadata": {
        "colab": {
          "base_uri": "https://localhost:8080/"
        },
        "id": "jg31jL_3debH",
        "outputId": "7e7b813d-22b1-4e71-d4e7-ab87b310ea12"
      },
      "execution_count": 44,
      "outputs": [
        {
          "output_type": "stream",
          "name": "stdout",
          "text": [
            "{'name': 'Bob', 'city': 'New York', 'country': 'USA'}\n"
          ]
        }
      ]
    },
    {
      "cell_type": "code",
      "source": [
        "#Using pop() Method:\n",
        "city = my_dict.pop('city')\n",
        "print(city)\n",
        "print(my_dict)"
      ],
      "metadata": {
        "colab": {
          "base_uri": "https://localhost:8080/"
        },
        "id": "8stMkjKOdmQq",
        "outputId": "df25488c-994b-4bfd-f46d-f41fa80d9a3f"
      },
      "execution_count": 45,
      "outputs": [
        {
          "output_type": "stream",
          "name": "stdout",
          "text": [
            "New York\n",
            "{'name': 'Bob', 'country': 'USA'}\n"
          ]
        }
      ]
    },
    {
      "cell_type": "code",
      "source": [
        "#Using popitem() Method:\n",
        "# Removes and returns the last inserted key-value pair\n",
        "last_item = my_dict.popitem()\n",
        "print(last_item)\n",
        "print(my_dict)\n",
        "\n",
        "#Using clear() Method:\n",
        "my_dict.clear()\n",
        "print(my_dict)"
      ],
      "metadata": {
        "colab": {
          "base_uri": "https://localhost:8080/"
        },
        "id": "3vPVqRe4due8",
        "outputId": "3340c1fb-d81d-4c81-d3e1-5449cf843148"
      },
      "execution_count": 46,
      "outputs": [
        {
          "output_type": "stream",
          "name": "stdout",
          "text": [
            "('country', 'USA')\n",
            "{'name': 'Bob'}\n",
            "{}\n"
          ]
        }
      ]
    },
    {
      "cell_type": "code",
      "source": [
        "#Examples\n",
        "#Adding Items:\n",
        "employee = {'name': 'Alice', 'age': 25}\n",
        "employee['position'] = 'Engineer'\n",
        "print(employee)"
      ],
      "metadata": {
        "colab": {
          "base_uri": "https://localhost:8080/"
        },
        "id": "Y2YXfkr5d6Q5",
        "outputId": "000b612d-2075-4466-dd7c-a9cc69408c33"
      },
      "execution_count": 47,
      "outputs": [
        {
          "output_type": "stream",
          "name": "stdout",
          "text": [
            "{'name': 'Alice', 'age': 25, 'position': 'Engineer'}\n"
          ]
        }
      ]
    },
    {
      "cell_type": "code",
      "source": [
        "#Modifying Items:\n",
        "employee['age'] = 26\n",
        "print(employee)\n",
        "\n",
        "#Deleting Items:\n",
        "del employee['position']\n",
        "print(employee)\n",
        "\n",
        "#USING POP():\n",
        "position = employee.pop('position', 'Not Found')\n",
        "print(position)  # Output: 'Not Found'\n",
        "\n",
        "#Using update():\n",
        "employee.update({'department': 'R&D', 'location': 'New York'})\n",
        "print(employee)  # Output: {'name': 'Alice', 'age': 26, 'department': 'R&D', 'location': 'New York'}\n",
        "\n",
        "#Using popitem():\n",
        "last_item = employee.popitem()\n",
        "print(last_item)  # Output: ('location', 'New York')\n",
        "print(employee)   # Output: {'name': 'Alice', 'age': 26, 'department': 'R&D'}\n",
        "\n",
        "#Clearing the Dictionary:\n",
        "employee.clear()\n",
        "print(employee)"
      ],
      "metadata": {
        "colab": {
          "base_uri": "https://localhost:8080/"
        },
        "id": "MGZhajhZeGd6",
        "outputId": "45d2323f-ef49-41ad-a69d-6813d8115c06"
      },
      "execution_count": 48,
      "outputs": [
        {
          "output_type": "stream",
          "name": "stdout",
          "text": [
            "{'name': 'Alice', 'age': 26, 'position': 'Engineer'}\n",
            "{'name': 'Alice', 'age': 26}\n",
            "Not Found\n",
            "{'name': 'Alice', 'age': 26, 'department': 'R&D', 'location': 'New York'}\n",
            "('location', 'New York')\n",
            "{'name': 'Alice', 'age': 26, 'department': 'R&D'}\n",
            "{}\n"
          ]
        }
      ]
    },
    {
      "cell_type": "markdown",
      "source": [
        "**QUES_08** Discuss the importance of dictionary keys being immutable and provide examples?"
      ],
      "metadata": {
        "id": "l0BmOHtbet2G"
      }
    },
    {
      "cell_type": "markdown",
      "source": [
        "**ANS_**In Python, dictionary keys must be immutable. This is a fundamental requirement due to the way dictionaries are implemented using hash tables.\n",
        "\n",
        "Here’s a discussion of the importance of dictionary keys being immutable, along with examples:\n",
        "\n",
        "Importance of Immutable Dictionary Keys\n",
        "\n",
        "Hashability:\n",
        "\n",
        "Dictionary keys need to be hashable, meaning their hash value does not change during their lifetime. Immutable types like strings, numbers, and tuples (containing only immutable elements) have fixed hash values. This ensures that the key can always be found in the hash table, maintaining the integrity of the dictionary.\n",
        "\n",
        "Consistency and Reliability:\n",
        "\n",
        "If dictionary keys were mutable, changing a key after it has been added to the dictionary could lead to inconsistencies and errors. The dictionary relies on the hash value of the key to locate its associated value. If the key's content changes, its hash value changes, making the key untraceable in the hash table.\n",
        "\n",
        "Performance:\n",
        "\n",
        "Hash tables allow for average-case O(1) time complexity for lookups, insertions, and deletions. Immutable keys ensure that the performance of these operations remains consistent and efficient.\n",
        "\n",
        "Examples of Immutable and Mutable Types as Dictionary Keys"
      ],
      "metadata": {
        "id": "8yadmZu8fbnp"
      }
    },
    {
      "cell_type": "code",
      "source": [
        "#Using Immutable Keys:\n",
        "# Strings as keys\n",
        "my_dict = {'name': 'Alice', 'age': 30}\n",
        "print(my_dict['name'])\n",
        "\n",
        "# Numbers as keys\n",
        "my_dict = {1: 'one', 2: 'two'}\n",
        "print(my_dict[1])\n",
        "\n",
        "# Tuples as keys (containing only immutable elements)\n",
        "my_dict = {(1, 2): 'a', (3, 4): 'b'}\n",
        "print(my_dict[(1, 2)])"
      ],
      "metadata": {
        "colab": {
          "base_uri": "https://localhost:8080/"
        },
        "id": "RjenizgYfyZu",
        "outputId": "cfccbb1c-179c-48a1-ea32-c2338e23032d"
      },
      "execution_count": 49,
      "outputs": [
        {
          "output_type": "stream",
          "name": "stdout",
          "text": [
            "Alice\n",
            "one\n",
            "a\n"
          ]
        }
      ]
    },
    {
      "cell_type": "code",
      "source": [
        "#Attempting to Use Mutable Keys:\n",
        "# Lists as keys (will raise TypeError)\n",
        "try:\n",
        "    my_dict = {[1, 2]: 'a', [3, 4]: 'b'}\n",
        "except TypeError as e:\n",
        "    print(e)"
      ],
      "metadata": {
        "colab": {
          "base_uri": "https://localhost:8080/"
        },
        "id": "S6xFrUjHf8ZL",
        "outputId": "f5171576-57b9-4150-b27a-16d7cdf3fd37"
      },
      "execution_count": 50,
      "outputs": [
        {
          "output_type": "stream",
          "name": "stdout",
          "text": [
            "unhashable type: 'list'\n"
          ]
        }
      ]
    },
    {
      "cell_type": "markdown",
      "source": [
        "**Detailed Examples**"
      ],
      "metadata": {
        "id": "0uId39lYgDDg"
      }
    },
    {
      "cell_type": "code",
      "source": [
        "#Immutable Keys:\n",
        "# Strings as keys\n",
        "student_grades = {'Alice': 'A', 'Bob': 'B', 'Charlie': 'C'}\n",
        "print(student_grades['Alice'])  # Output: A\n",
        "\n",
        "# Tuples as keys\n",
        "coordinate_points = {(0, 0): 'Origin', (1, 1): 'Point A'}\n",
        "print(coordinate_points[(0, 0)])"
      ],
      "metadata": {
        "colab": {
          "base_uri": "https://localhost:8080/"
        },
        "id": "MjUCMqo-gMUJ",
        "outputId": "d11bd7db-142c-4815-992a-aaf5ebeb35e7"
      },
      "execution_count": 51,
      "outputs": [
        {
          "output_type": "stream",
          "name": "stdout",
          "text": [
            "A\n",
            "Origin\n"
          ]
        }
      ]
    },
    {
      "cell_type": "code",
      "source": [
        "#Mutable Keys:\n",
        "# Lists are mutable and cannot be used as dictionary keys\n",
        "try:\n",
        "    invalid_dict = {[1, 2, 3]: 'numbers'}\n",
        "except TypeError as e:\n",
        "    print(e)"
      ],
      "metadata": {
        "colab": {
          "base_uri": "https://localhost:8080/"
        },
        "id": "klGGGiRIgUya",
        "outputId": "55e70644-4264-4cc4-c4b1-f9868f1dbf66"
      },
      "execution_count": 52,
      "outputs": [
        {
          "output_type": "stream",
          "name": "stdout",
          "text": [
            "unhashable type: 'list'\n"
          ]
        }
      ]
    },
    {
      "cell_type": "markdown",
      "source": [
        "**Summary**\n",
        "\n",
        "Hashability: Immutable keys ensure consistent hash values, which is crucial for the efficient functioning of dictionaries.\n",
        "\n",
        "Consistency: Immutable keys prevent unintended changes, ensuring reliable data retrieval.\n",
        "\n",
        "Performance: Immutable keys help maintain the performance benefits of hash table operations in dictionaries."
      ],
      "metadata": {
        "id": "SGiItZHFgk_I"
      }
    }
  ]
}